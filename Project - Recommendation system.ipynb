{
 "cells": [
  {
   "cell_type": "markdown",
   "metadata": {},
   "source": [
    "# Import Necessary libraries and load the dataset."
   ]
  },
  {
   "cell_type": "code",
   "execution_count": 1,
   "metadata": {},
   "outputs": [],
   "source": [
    "import numpy as np\n",
    "import pandas as pd\n",
    "import seaborn as sns\n",
    "import matplotlib.pyplot as plt\n",
    "from collections import defaultdict\n",
    "from surprise import KNNWithMeans\n",
    "from surprise import SVD\n",
    "from surprise import KNNBaseline\n",
    "from surprise import KNNBasic\n",
    "from surprise import KNNWithZScore\n",
    "from surprise import BaselineOnly\n",
    "from surprise import Dataset\n",
    "from surprise import Reader\n",
    "from surprise import accuracy\n",
    "from surprise.model_selection import train_test_split\n",
    "from surprise.model_selection import cross_validate\n",
    "from surprise.model_selection import KFold\n",
    "import time"
   ]
  },
  {
   "cell_type": "code",
   "execution_count": 2,
   "metadata": {},
   "outputs": [
    {
     "data": {
      "text/html": [
       "<div>\n",
       "<style scoped>\n",
       "    .dataframe tbody tr th:only-of-type {\n",
       "        vertical-align: middle;\n",
       "    }\n",
       "\n",
       "    .dataframe tbody tr th {\n",
       "        vertical-align: top;\n",
       "    }\n",
       "\n",
       "    .dataframe thead th {\n",
       "        text-align: right;\n",
       "    }\n",
       "</style>\n",
       "<table border=\"1\" class=\"dataframe\">\n",
       "  <thead>\n",
       "    <tr style=\"text-align: right;\">\n",
       "      <th></th>\n",
       "      <th>userId</th>\n",
       "      <th>productId</th>\n",
       "      <th>rating</th>\n",
       "      <th>timestamp</th>\n",
       "    </tr>\n",
       "  </thead>\n",
       "  <tbody>\n",
       "    <tr>\n",
       "      <th>0</th>\n",
       "      <td>AKM1MP6P0OYPR</td>\n",
       "      <td>0132793040</td>\n",
       "      <td>5.0</td>\n",
       "      <td>1365811200</td>\n",
       "    </tr>\n",
       "    <tr>\n",
       "      <th>1</th>\n",
       "      <td>A2CX7LUOHB2NDG</td>\n",
       "      <td>0321732944</td>\n",
       "      <td>5.0</td>\n",
       "      <td>1341100800</td>\n",
       "    </tr>\n",
       "    <tr>\n",
       "      <th>2</th>\n",
       "      <td>A2NWSAGRHCP8N5</td>\n",
       "      <td>0439886341</td>\n",
       "      <td>1.0</td>\n",
       "      <td>1367193600</td>\n",
       "    </tr>\n",
       "    <tr>\n",
       "      <th>3</th>\n",
       "      <td>A2WNBOD3WNDNKT</td>\n",
       "      <td>0439886341</td>\n",
       "      <td>3.0</td>\n",
       "      <td>1374451200</td>\n",
       "    </tr>\n",
       "    <tr>\n",
       "      <th>4</th>\n",
       "      <td>A1GI0U4ZRJA8WN</td>\n",
       "      <td>0439886341</td>\n",
       "      <td>1.0</td>\n",
       "      <td>1334707200</td>\n",
       "    </tr>\n",
       "  </tbody>\n",
       "</table>\n",
       "</div>"
      ],
      "text/plain": [
       "           userId   productId  rating   timestamp\n",
       "0   AKM1MP6P0OYPR  0132793040     5.0  1365811200\n",
       "1  A2CX7LUOHB2NDG  0321732944     5.0  1341100800\n",
       "2  A2NWSAGRHCP8N5  0439886341     1.0  1367193600\n",
       "3  A2WNBOD3WNDNKT  0439886341     3.0  1374451200\n",
       "4  A1GI0U4ZRJA8WN  0439886341     1.0  1334707200"
      ]
     },
     "execution_count": 2,
     "metadata": {},
     "output_type": "execute_result"
    }
   ],
   "source": [
    "data = pd.read_csv('ratings_Electronics.csv', names = [\"userId\", \"productId\", \"rating\", \"timestamp\"])\n",
    "data.head()"
   ]
  },
  {
   "cell_type": "markdown",
   "metadata": {},
   "source": [
    "Shape of the data"
   ]
  },
  {
   "cell_type": "code",
   "execution_count": 3,
   "metadata": {},
   "outputs": [
    {
     "data": {
      "text/plain": [
       "(7824482, 4)"
      ]
     },
     "execution_count": 3,
     "metadata": {},
     "output_type": "execute_result"
    }
   ],
   "source": [
    "data.shape"
   ]
  },
  {
   "cell_type": "markdown",
   "metadata": {},
   "source": [
    "There are 7824482 rows and 4 columns in the dataset."
   ]
  },
  {
   "cell_type": "code",
   "execution_count": 4,
   "metadata": {},
   "outputs": [
    {
     "data": {
      "text/plain": [
       "userId        object\n",
       "productId     object\n",
       "rating       float64\n",
       "timestamp      int64\n",
       "dtype: object"
      ]
     },
     "execution_count": 4,
     "metadata": {},
     "output_type": "execute_result"
    }
   ],
   "source": [
    "data.dtypes"
   ]
  },
  {
   "cell_type": "markdown",
   "metadata": {},
   "source": [
    "# Unique UserId and Product Id"
   ]
  },
  {
   "cell_type": "code",
   "execution_count": 5,
   "metadata": {},
   "outputs": [
    {
     "name": "stdout",
     "output_type": "stream",
     "text": [
      "Total number of unique Users: 4201696\n",
      "Total number of unique Products: 476002\n"
     ]
    }
   ],
   "source": [
    "unique_userId = data['userId'].nunique()\n",
    "unique_productId = data['productId'].nunique()\n",
    "print('Total number of unique Users:', unique_userId)\n",
    "print('Total number of unique Products:', unique_productId)"
   ]
  },
  {
   "cell_type": "markdown",
   "metadata": {},
   "source": [
    "# Checking the presence of missing values"
   ]
  },
  {
   "cell_type": "code",
   "execution_count": 6,
   "metadata": {},
   "outputs": [
    {
     "data": {
      "text/plain": [
       "userId       0\n",
       "productId    0\n",
       "rating       0\n",
       "timestamp    0\n",
       "dtype: int64"
      ]
     },
     "execution_count": 6,
     "metadata": {},
     "output_type": "execute_result"
    }
   ],
   "source": [
    "data.isnull().sum()"
   ]
  },
  {
   "cell_type": "markdown",
   "metadata": {},
   "source": [
    "There is no missing values in any of the column."
   ]
  },
  {
   "cell_type": "code",
   "execution_count": 7,
   "metadata": {},
   "outputs": [
    {
     "data": {
      "text/html": [
       "<div>\n",
       "<style scoped>\n",
       "    .dataframe tbody tr th:only-of-type {\n",
       "        vertical-align: middle;\n",
       "    }\n",
       "\n",
       "    .dataframe tbody tr th {\n",
       "        vertical-align: top;\n",
       "    }\n",
       "\n",
       "    .dataframe thead th {\n",
       "        text-align: right;\n",
       "    }\n",
       "</style>\n",
       "<table border=\"1\" class=\"dataframe\">\n",
       "  <thead>\n",
       "    <tr style=\"text-align: right;\">\n",
       "      <th></th>\n",
       "      <th>count</th>\n",
       "      <th>mean</th>\n",
       "      <th>std</th>\n",
       "      <th>min</th>\n",
       "      <th>25%</th>\n",
       "      <th>50%</th>\n",
       "      <th>75%</th>\n",
       "      <th>max</th>\n",
       "    </tr>\n",
       "  </thead>\n",
       "  <tbody>\n",
       "    <tr>\n",
       "      <th>rating</th>\n",
       "      <td>7824482.0</td>\n",
       "      <td>4.012337e+00</td>\n",
       "      <td>1.380910e+00</td>\n",
       "      <td>1.0</td>\n",
       "      <td>3.000000e+00</td>\n",
       "      <td>5.000000e+00</td>\n",
       "      <td>5.000000e+00</td>\n",
       "      <td>5.000000e+00</td>\n",
       "    </tr>\n",
       "    <tr>\n",
       "      <th>timestamp</th>\n",
       "      <td>7824482.0</td>\n",
       "      <td>1.338178e+09</td>\n",
       "      <td>6.900426e+07</td>\n",
       "      <td>912729600.0</td>\n",
       "      <td>1.315354e+09</td>\n",
       "      <td>1.361059e+09</td>\n",
       "      <td>1.386115e+09</td>\n",
       "      <td>1.406074e+09</td>\n",
       "    </tr>\n",
       "  </tbody>\n",
       "</table>\n",
       "</div>"
      ],
      "text/plain": [
       "               count          mean           std          min           25%  \\\n",
       "rating     7824482.0  4.012337e+00  1.380910e+00          1.0  3.000000e+00   \n",
       "timestamp  7824482.0  1.338178e+09  6.900426e+07  912729600.0  1.315354e+09   \n",
       "\n",
       "                    50%           75%           max  \n",
       "rating     5.000000e+00  5.000000e+00  5.000000e+00  \n",
       "timestamp  1.361059e+09  1.386115e+09  1.406074e+09  "
      ]
     },
     "execution_count": 7,
     "metadata": {},
     "output_type": "execute_result"
    }
   ],
   "source": [
    "data.describe().T"
   ]
  },
  {
   "cell_type": "markdown",
   "metadata": {},
   "source": [
    "From above we can see that, mean of rating is less than median which stats that the distribution is negatively skewed.\n",
    "Mean of timestamp is almost near to median which stats the distribution is symmetric."
   ]
  },
  {
   "cell_type": "markdown",
   "metadata": {},
   "source": [
    "# Checking the Outliers"
   ]
  },
  {
   "cell_type": "code",
   "execution_count": 8,
   "metadata": {},
   "outputs": [
    {
     "data": {
      "text/plain": [
       "<matplotlib.axes._subplots.AxesSubplot at 0x1c4271d8288>"
      ]
     },
     "execution_count": 8,
     "metadata": {},
     "output_type": "execute_result"
    },
    {
     "data": {
      "image/png": "[encoded data removed]",
      "text/plain": [
       "<Figure size 1440x360 with 1 Axes>"
      ]
     },
     "metadata": {
      "needs_background": "light"
     },
     "output_type": "display_data"
    }
   ],
   "source": [
    "plt.figure(figsize =(20,5))\n",
    "sns.boxplot(data = data, orient = 'h')"
   ]
  },
  {
   "cell_type": "markdown",
   "metadata": {},
   "source": [
    "From the above boxplot we can see that there are outliers in timestamp column. But I will not fixed the outliers as i will be \n",
    "dropping timestamp which is mentioned in the problem statement."
   ]
  },
  {
   "cell_type": "markdown",
   "metadata": {},
   "source": [
    "# Pair plot that includes all the columns of dataframe:"
   ]
  },
  {
   "cell_type": "code",
   "execution_count": 9,
   "metadata": {},
   "outputs": [
    {
     "data": {
      "text/plain": [
       "<seaborn.axisgrid.PairGrid at 0x1c427924648>"
      ]
     },
     "execution_count": 9,
     "metadata": {},
     "output_type": "execute_result"
    },
    {
     "data": {
      "image/png": "[encoded data removed]",
      "text/plain": [
       "<Figure size 360x360 with 6 Axes>"
      ]
     },
     "metadata": {
      "needs_background": "light"
     },
     "output_type": "display_data"
    }
   ],
   "source": [
    "sns.pairplot(data, diag_kind = 'kde')"
   ]
  },
  {
   "cell_type": "markdown",
   "metadata": {},
   "source": [
    "From above we can observe that most of the customers have given 5 rating ."
   ]
  },
  {
   "cell_type": "markdown",
   "metadata": {},
   "source": [
    "# Checking the ratio of all 5 ratings"
   ]
  },
  {
   "cell_type": "code",
   "execution_count": 10,
   "metadata": {},
   "outputs": [
    {
     "data": {
      "text/plain": [
       "5.0    4347541\n",
       "4.0    1485781\n",
       "1.0     901765\n",
       "3.0     633073\n",
       "2.0     456322\n",
       "Name: rating, dtype: int64"
      ]
     },
     "execution_count": 10,
     "metadata": {},
     "output_type": "execute_result"
    }
   ],
   "source": [
    "data['rating'].value_counts()"
   ]
  },
  {
   "cell_type": "code",
   "execution_count": 11,
   "metadata": {},
   "outputs": [
    {
     "data": {
      "text/plain": [
       "<matplotlib.axes._subplots.AxesSubplot at 0x1c403bff9c8>"
      ]
     },
     "execution_count": 11,
     "metadata": {},
     "output_type": "execute_result"
    },
    {
     "data": {
      "image/png": "[encoded data removed]",
      "text/plain": [
       "<Figure size 432x288 with 1 Axes>"
      ]
     },
     "metadata": {
      "needs_background": "light"
     },
     "output_type": "display_data"
    }
   ],
   "source": [
    "sns.countplot(data['rating'])"
   ]
  },
  {
   "cell_type": "markdown",
   "metadata": {},
   "source": [
    "From the above countplot we observe that most of the people have given 5 rating. Least number of people have given 2 rating.\n",
    "we also analysed that most of the products are liked by the people.\n"
   ]
  },
  {
   "cell_type": "code",
   "execution_count": 12,
   "metadata": {},
   "outputs": [
    {
     "data": {
      "text/html": [
       "<div>\n",
       "<style scoped>\n",
       "    .dataframe tbody tr th:only-of-type {\n",
       "        vertical-align: middle;\n",
       "    }\n",
       "\n",
       "    .dataframe tbody tr th {\n",
       "        vertical-align: top;\n",
       "    }\n",
       "\n",
       "    .dataframe thead th {\n",
       "        text-align: right;\n",
       "    }\n",
       "</style>\n",
       "<table border=\"1\" class=\"dataframe\">\n",
       "  <thead>\n",
       "    <tr style=\"text-align: right;\">\n",
       "      <th></th>\n",
       "      <th>rating</th>\n",
       "      <th>timestamp</th>\n",
       "    </tr>\n",
       "  </thead>\n",
       "  <tbody>\n",
       "    <tr>\n",
       "      <th>rating</th>\n",
       "      <td>1.000000</td>\n",
       "      <td>0.041648</td>\n",
       "    </tr>\n",
       "    <tr>\n",
       "      <th>timestamp</th>\n",
       "      <td>0.041648</td>\n",
       "      <td>1.000000</td>\n",
       "    </tr>\n",
       "  </tbody>\n",
       "</table>\n",
       "</div>"
      ],
      "text/plain": [
       "             rating  timestamp\n",
       "rating     1.000000   0.041648\n",
       "timestamp  0.041648   1.000000"
      ]
     },
     "execution_count": 12,
     "metadata": {},
     "output_type": "execute_result"
    }
   ],
   "source": [
    "data.corr()"
   ]
  },
  {
   "cell_type": "markdown",
   "metadata": {},
   "source": [
    "# Dropping timestamp column:"
   ]
  },
  {
   "cell_type": "code",
   "execution_count": 13,
   "metadata": {},
   "outputs": [],
   "source": [
    "data = data.drop(['timestamp'], axis =1)"
   ]
  },
  {
   "cell_type": "markdown",
   "metadata": {},
   "source": [
    "Taking copy of dataframe before doing any manupulation with dataset ."
   ]
  },
  {
   "cell_type": "code",
   "execution_count": 14,
   "metadata": {},
   "outputs": [],
   "source": [
    "data1 = data.copy()"
   ]
  },
  {
   "cell_type": "code",
   "execution_count": 15,
   "metadata": {},
   "outputs": [
    {
     "data": {
      "text/html": [
       "<div>\n",
       "<style scoped>\n",
       "    .dataframe tbody tr th:only-of-type {\n",
       "        vertical-align: middle;\n",
       "    }\n",
       "\n",
       "    .dataframe tbody tr th {\n",
       "        vertical-align: top;\n",
       "    }\n",
       "\n",
       "    .dataframe thead th {\n",
       "        text-align: right;\n",
       "    }\n",
       "</style>\n",
       "<table border=\"1\" class=\"dataframe\">\n",
       "  <thead>\n",
       "    <tr style=\"text-align: right;\">\n",
       "      <th></th>\n",
       "      <th>userId</th>\n",
       "      <th>productId</th>\n",
       "      <th>rating</th>\n",
       "    </tr>\n",
       "  </thead>\n",
       "  <tbody>\n",
       "    <tr>\n",
       "      <th>0</th>\n",
       "      <td>AKM1MP6P0OYPR</td>\n",
       "      <td>0132793040</td>\n",
       "      <td>5.0</td>\n",
       "    </tr>\n",
       "    <tr>\n",
       "      <th>1</th>\n",
       "      <td>A2CX7LUOHB2NDG</td>\n",
       "      <td>0321732944</td>\n",
       "      <td>5.0</td>\n",
       "    </tr>\n",
       "    <tr>\n",
       "      <th>2</th>\n",
       "      <td>A2NWSAGRHCP8N5</td>\n",
       "      <td>0439886341</td>\n",
       "      <td>1.0</td>\n",
       "    </tr>\n",
       "    <tr>\n",
       "      <th>3</th>\n",
       "      <td>A2WNBOD3WNDNKT</td>\n",
       "      <td>0439886341</td>\n",
       "      <td>3.0</td>\n",
       "    </tr>\n",
       "    <tr>\n",
       "      <th>4</th>\n",
       "      <td>A1GI0U4ZRJA8WN</td>\n",
       "      <td>0439886341</td>\n",
       "      <td>1.0</td>\n",
       "    </tr>\n",
       "  </tbody>\n",
       "</table>\n",
       "</div>"
      ],
      "text/plain": [
       "           userId   productId  rating\n",
       "0   AKM1MP6P0OYPR  0132793040     5.0\n",
       "1  A2CX7LUOHB2NDG  0321732944     5.0\n",
       "2  A2NWSAGRHCP8N5  0439886341     1.0\n",
       "3  A2WNBOD3WNDNKT  0439886341     3.0\n",
       "4  A1GI0U4ZRJA8WN  0439886341     1.0"
      ]
     },
     "execution_count": 15,
     "metadata": {},
     "output_type": "execute_result"
    }
   ],
   "source": [
    "data1.head()"
   ]
  },
  {
   "cell_type": "markdown",
   "metadata": {},
   "source": [
    "# Taking a subset of the dataset to make it less sparse/ denser."
   ]
  },
  {
   "cell_type": "markdown",
   "metadata": {},
   "source": [
    "Taking subset of users who have given 50 or more number of ratings: "
   ]
  },
  {
   "cell_type": "code",
   "execution_count": 16,
   "metadata": {},
   "outputs": [],
   "source": [
    "users_counts = data1['userId'].value_counts().rename('users_counts')\n",
    "users_data = data1.merge(users_counts.to_frame(), left_on = 'userId', right_index = True)"
   ]
  },
  {
   "cell_type": "code",
   "execution_count": 17,
   "metadata": {},
   "outputs": [
    {
     "data": {
      "text/html": [
       "<div>\n",
       "<style scoped>\n",
       "    .dataframe tbody tr th:only-of-type {\n",
       "        vertical-align: middle;\n",
       "    }\n",
       "\n",
       "    .dataframe tbody tr th {\n",
       "        vertical-align: top;\n",
       "    }\n",
       "\n",
       "    .dataframe thead th {\n",
       "        text-align: right;\n",
       "    }\n",
       "</style>\n",
       "<table border=\"1\" class=\"dataframe\">\n",
       "  <thead>\n",
       "    <tr style=\"text-align: right;\">\n",
       "      <th></th>\n",
       "      <th>userId</th>\n",
       "      <th>productId</th>\n",
       "      <th>rating</th>\n",
       "      <th>users_counts</th>\n",
       "    </tr>\n",
       "  </thead>\n",
       "  <tbody>\n",
       "    <tr>\n",
       "      <th>94</th>\n",
       "      <td>A3BY5KCNQZXV5U</td>\n",
       "      <td>0594451647</td>\n",
       "      <td>5.0</td>\n",
       "      <td>50</td>\n",
       "    </tr>\n",
       "    <tr>\n",
       "      <th>14863</th>\n",
       "      <td>A3BY5KCNQZXV5U</td>\n",
       "      <td>B00000JD4V</td>\n",
       "      <td>4.0</td>\n",
       "      <td>50</td>\n",
       "    </tr>\n",
       "    <tr>\n",
       "      <th>134213</th>\n",
       "      <td>A3BY5KCNQZXV5U</td>\n",
       "      <td>B000063574</td>\n",
       "      <td>5.0</td>\n",
       "      <td>50</td>\n",
       "    </tr>\n",
       "    <tr>\n",
       "      <th>338368</th>\n",
       "      <td>A3BY5KCNQZXV5U</td>\n",
       "      <td>B0000CDJP8</td>\n",
       "      <td>5.0</td>\n",
       "      <td>50</td>\n",
       "    </tr>\n",
       "    <tr>\n",
       "      <th>634048</th>\n",
       "      <td>A3BY5KCNQZXV5U</td>\n",
       "      <td>B0007Y794O</td>\n",
       "      <td>5.0</td>\n",
       "      <td>50</td>\n",
       "    </tr>\n",
       "  </tbody>\n",
       "</table>\n",
       "</div>"
      ],
      "text/plain": [
       "                userId   productId  rating  users_counts\n",
       "94      A3BY5KCNQZXV5U  0594451647     5.0            50\n",
       "14863   A3BY5KCNQZXV5U  B00000JD4V     4.0            50\n",
       "134213  A3BY5KCNQZXV5U  B000063574     5.0            50\n",
       "338368  A3BY5KCNQZXV5U  B0000CDJP8     5.0            50\n",
       "634048  A3BY5KCNQZXV5U  B0007Y794O     5.0            50"
      ]
     },
     "execution_count": 17,
     "metadata": {},
     "output_type": "execute_result"
    }
   ],
   "source": [
    "subset_data = users_data[users_data.users_counts >= 50]\n",
    "subset_data.head()"
   ]
  },
  {
   "cell_type": "markdown",
   "metadata": {},
   "source": [
    "From above we can see that only those users who have given 50 or more number of ratings."
   ]
  },
  {
   "cell_type": "markdown",
   "metadata": {},
   "source": [
    "Taking subset of products which have received 10 or more number of ratings:"
   ]
  },
  {
   "cell_type": "code",
   "execution_count": 18,
   "metadata": {},
   "outputs": [],
   "source": [
    "product_rating_counts = subset_data['productId'].value_counts().rename('product_rating_counts')\n",
    "product_rating_data = subset_data.merge(product_rating_counts.to_frame(), left_on = 'productId', right_index = True)"
   ]
  },
  {
   "cell_type": "code",
   "execution_count": 19,
   "metadata": {},
   "outputs": [
    {
     "data": {
      "text/html": [
       "<div>\n",
       "<style scoped>\n",
       "    .dataframe tbody tr th:only-of-type {\n",
       "        vertical-align: middle;\n",
       "    }\n",
       "\n",
       "    .dataframe tbody tr th {\n",
       "        vertical-align: top;\n",
       "    }\n",
       "\n",
       "    .dataframe thead th {\n",
       "        text-align: right;\n",
       "    }\n",
       "</style>\n",
       "<table border=\"1\" class=\"dataframe\">\n",
       "  <thead>\n",
       "    <tr style=\"text-align: right;\">\n",
       "      <th></th>\n",
       "      <th>userId</th>\n",
       "      <th>productId</th>\n",
       "      <th>rating</th>\n",
       "      <th>users_counts</th>\n",
       "      <th>product_rating_counts</th>\n",
       "    </tr>\n",
       "  </thead>\n",
       "  <tbody>\n",
       "    <tr>\n",
       "      <th>634048</th>\n",
       "      <td>A3BY5KCNQZXV5U</td>\n",
       "      <td>B0007Y794O</td>\n",
       "      <td>5.0</td>\n",
       "      <td>50</td>\n",
       "      <td>18</td>\n",
       "    </tr>\n",
       "    <tr>\n",
       "      <th>633970</th>\n",
       "      <td>AKT8TGIT6VVZ5</td>\n",
       "      <td>B0007Y794O</td>\n",
       "      <td>5.0</td>\n",
       "      <td>192</td>\n",
       "      <td>18</td>\n",
       "    </tr>\n",
       "    <tr>\n",
       "      <th>633944</th>\n",
       "      <td>A1ILWPH1GHUXE2</td>\n",
       "      <td>B0007Y794O</td>\n",
       "      <td>4.0</td>\n",
       "      <td>98</td>\n",
       "      <td>18</td>\n",
       "    </tr>\n",
       "    <tr>\n",
       "      <th>634073</th>\n",
       "      <td>A1ZM846Y7AUYD</td>\n",
       "      <td>B0007Y794O</td>\n",
       "      <td>4.0</td>\n",
       "      <td>77</td>\n",
       "      <td>18</td>\n",
       "    </tr>\n",
       "    <tr>\n",
       "      <th>633998</th>\n",
       "      <td>A2ED50E3KWKUKW</td>\n",
       "      <td>B0007Y794O</td>\n",
       "      <td>5.0</td>\n",
       "      <td>65</td>\n",
       "      <td>18</td>\n",
       "    </tr>\n",
       "  </tbody>\n",
       "</table>\n",
       "</div>"
      ],
      "text/plain": [
       "                userId   productId  rating  users_counts  \\\n",
       "634048  A3BY5KCNQZXV5U  B0007Y794O     5.0            50   \n",
       "633970   AKT8TGIT6VVZ5  B0007Y794O     5.0           192   \n",
       "633944  A1ILWPH1GHUXE2  B0007Y794O     4.0            98   \n",
       "634073   A1ZM846Y7AUYD  B0007Y794O     4.0            77   \n",
       "633998  A2ED50E3KWKUKW  B0007Y794O     5.0            65   \n",
       "\n",
       "        product_rating_counts  \n",
       "634048                     18  \n",
       "633970                     18  \n",
       "633944                     18  \n",
       "634073                     18  \n",
       "633998                     18  "
      ]
     },
     "execution_count": 19,
     "metadata": {},
     "output_type": "execute_result"
    }
   ],
   "source": [
    "product_rating_data = product_rating_data[product_rating_data.product_rating_counts >= 10]\n",
    "product_rating_data.head()"
   ]
  },
  {
   "cell_type": "code",
   "execution_count": 20,
   "metadata": {},
   "outputs": [],
   "source": [
    "amazon_data = product_rating_data.copy()"
   ]
  },
  {
   "cell_type": "code",
   "execution_count": 21,
   "metadata": {},
   "outputs": [
    {
     "data": {
      "text/html": [
       "<div>\n",
       "<style scoped>\n",
       "    .dataframe tbody tr th:only-of-type {\n",
       "        vertical-align: middle;\n",
       "    }\n",
       "\n",
       "    .dataframe tbody tr th {\n",
       "        vertical-align: top;\n",
       "    }\n",
       "\n",
       "    .dataframe thead th {\n",
       "        text-align: right;\n",
       "    }\n",
       "</style>\n",
       "<table border=\"1\" class=\"dataframe\">\n",
       "  <thead>\n",
       "    <tr style=\"text-align: right;\">\n",
       "      <th></th>\n",
       "      <th>userId</th>\n",
       "      <th>productId</th>\n",
       "      <th>rating</th>\n",
       "    </tr>\n",
       "  </thead>\n",
       "  <tbody>\n",
       "    <tr>\n",
       "      <th>634048</th>\n",
       "      <td>A3BY5KCNQZXV5U</td>\n",
       "      <td>B0007Y794O</td>\n",
       "      <td>5.0</td>\n",
       "    </tr>\n",
       "    <tr>\n",
       "      <th>633970</th>\n",
       "      <td>AKT8TGIT6VVZ5</td>\n",
       "      <td>B0007Y794O</td>\n",
       "      <td>5.0</td>\n",
       "    </tr>\n",
       "    <tr>\n",
       "      <th>633944</th>\n",
       "      <td>A1ILWPH1GHUXE2</td>\n",
       "      <td>B0007Y794O</td>\n",
       "      <td>4.0</td>\n",
       "    </tr>\n",
       "    <tr>\n",
       "      <th>634073</th>\n",
       "      <td>A1ZM846Y7AUYD</td>\n",
       "      <td>B0007Y794O</td>\n",
       "      <td>4.0</td>\n",
       "    </tr>\n",
       "    <tr>\n",
       "      <th>633998</th>\n",
       "      <td>A2ED50E3KWKUKW</td>\n",
       "      <td>B0007Y794O</td>\n",
       "      <td>5.0</td>\n",
       "    </tr>\n",
       "  </tbody>\n",
       "</table>\n",
       "</div>"
      ],
      "text/plain": [
       "                userId   productId  rating\n",
       "634048  A3BY5KCNQZXV5U  B0007Y794O     5.0\n",
       "633970   AKT8TGIT6VVZ5  B0007Y794O     5.0\n",
       "633944  A1ILWPH1GHUXE2  B0007Y794O     4.0\n",
       "634073   A1ZM846Y7AUYD  B0007Y794O     4.0\n",
       "633998  A2ED50E3KWKUKW  B0007Y794O     5.0"
      ]
     },
     "execution_count": 21,
     "metadata": {},
     "output_type": "execute_result"
    }
   ],
   "source": [
    "panda_data = amazon_data.drop(['users_counts','product_rating_counts'], axis =1)\n",
    "panda_data.head()"
   ]
  },
  {
   "cell_type": "markdown",
   "metadata": {},
   "source": [
    "# Spliting the data randomly into train and test dataset (70:30 ratio)"
   ]
  },
  {
   "cell_type": "code",
   "execution_count": 22,
   "metadata": {},
   "outputs": [],
   "source": [
    "reader = Reader(rating_scale =(1,5))\n",
    "surprise_data = Dataset.load_from_df(panda_data[['userId','productId','rating']],reader)"
   ]
  },
  {
   "cell_type": "code",
   "execution_count": 23,
   "metadata": {},
   "outputs": [],
   "source": [
    "trainset, testset = train_test_split(surprise_data, test_size = 0.30, random_state = 1)"
   ]
  },
  {
   "cell_type": "markdown",
   "metadata": {},
   "source": [
    "# Building Popularity Recommender Model:"
   ]
  },
  {
   "cell_type": "markdown",
   "metadata": {},
   "source": [
    "In two way I will be creating the Recommender model.\n",
    "Using mean of product rating.\n",
    "Using Ranking Based Algorithm."
   ]
  },
  {
   "cell_type": "code",
   "execution_count": 24,
   "metadata": {},
   "outputs": [
    {
     "data": {
      "text/plain": [
       "productId\n",
       "B00001P4XA    4.000000\n",
       "B00001P4ZH    4.470588\n",
       "B00001WRSJ    4.500000\n",
       "B00001ZWXA    4.600000\n",
       "B00004SABB    4.000000\n",
       "Name: rating, dtype: float64"
      ]
     },
     "execution_count": 24,
     "metadata": {},
     "output_type": "execute_result"
    }
   ],
   "source": [
    "panda_data.groupby('productId')['rating'].mean().head()"
   ]
  },
  {
   "cell_type": "code",
   "execution_count": 25,
   "metadata": {},
   "outputs": [
    {
     "data": {
      "text/plain": [
       "productId\n",
       "B00L3YHF6O    5.0\n",
       "B00006HSML    5.0\n",
       "B001TH7GUA    5.0\n",
       "B000IJY8DS    5.0\n",
       "B005LDLP8W    5.0\n",
       "Name: rating, dtype: float64"
      ]
     },
     "execution_count": 25,
     "metadata": {},
     "output_type": "execute_result"
    }
   ],
   "source": [
    "panda_data.groupby('productId')['rating'].mean().sort_values(ascending=False).head()"
   ]
  },
  {
   "cell_type": "code",
   "execution_count": 26,
   "metadata": {},
   "outputs": [
    {
     "data": {
      "text/html": [
       "<div>\n",
       "<style scoped>\n",
       "    .dataframe tbody tr th:only-of-type {\n",
       "        vertical-align: middle;\n",
       "    }\n",
       "\n",
       "    .dataframe tbody tr th {\n",
       "        vertical-align: top;\n",
       "    }\n",
       "\n",
       "    .dataframe thead th {\n",
       "        text-align: right;\n",
       "    }\n",
       "</style>\n",
       "<table border=\"1\" class=\"dataframe\">\n",
       "  <thead>\n",
       "    <tr style=\"text-align: right;\">\n",
       "      <th></th>\n",
       "      <th>rating</th>\n",
       "      <th>prod_rating_count</th>\n",
       "    </tr>\n",
       "    <tr>\n",
       "      <th>productId</th>\n",
       "      <th></th>\n",
       "      <th></th>\n",
       "    </tr>\n",
       "  </thead>\n",
       "  <tbody>\n",
       "    <tr>\n",
       "      <th>B00L3YHF6O</th>\n",
       "      <td>5.0</td>\n",
       "      <td>14</td>\n",
       "    </tr>\n",
       "    <tr>\n",
       "      <th>B00006HSML</th>\n",
       "      <td>5.0</td>\n",
       "      <td>10</td>\n",
       "    </tr>\n",
       "    <tr>\n",
       "      <th>B001TH7GUA</th>\n",
       "      <td>5.0</td>\n",
       "      <td>17</td>\n",
       "    </tr>\n",
       "    <tr>\n",
       "      <th>B000IJY8DS</th>\n",
       "      <td>5.0</td>\n",
       "      <td>17</td>\n",
       "    </tr>\n",
       "    <tr>\n",
       "      <th>B005LDLP8W</th>\n",
       "      <td>5.0</td>\n",
       "      <td>16</td>\n",
       "    </tr>\n",
       "  </tbody>\n",
       "</table>\n",
       "</div>"
      ],
      "text/plain": [
       "            rating  prod_rating_count\n",
       "productId                            \n",
       "B00L3YHF6O     5.0                 14\n",
       "B00006HSML     5.0                 10\n",
       "B001TH7GUA     5.0                 17\n",
       "B000IJY8DS     5.0                 17\n",
       "B005LDLP8W     5.0                 16"
      ]
     },
     "execution_count": 26,
     "metadata": {},
     "output_type": "execute_result"
    }
   ],
   "source": [
    "prod_rating_count = pd.DataFrame(panda_data.groupby('productId')['rating'].mean().sort_values(ascending = False))\n",
    "prod_rating_count['prod_rating_count'] = pd.DataFrame(panda_data.groupby('productId')['rating'].count())\n",
    "prod_rating_count.head()"
   ]
  },
  {
   "cell_type": "code",
   "execution_count": 27,
   "metadata": {},
   "outputs": [
    {
     "data": {
      "text/html": [
       "<div>\n",
       "<style scoped>\n",
       "    .dataframe tbody tr th:only-of-type {\n",
       "        vertical-align: middle;\n",
       "    }\n",
       "\n",
       "    .dataframe tbody tr th {\n",
       "        vertical-align: top;\n",
       "    }\n",
       "\n",
       "    .dataframe thead th {\n",
       "        text-align: right;\n",
       "    }\n",
       "</style>\n",
       "<table border=\"1\" class=\"dataframe\">\n",
       "  <thead>\n",
       "    <tr style=\"text-align: right;\">\n",
       "      <th></th>\n",
       "      <th>rating</th>\n",
       "      <th>prod_rating_count</th>\n",
       "    </tr>\n",
       "    <tr>\n",
       "      <th>productId</th>\n",
       "      <th></th>\n",
       "      <th></th>\n",
       "    </tr>\n",
       "  </thead>\n",
       "  <tbody>\n",
       "    <tr>\n",
       "      <th>B0088CJT4U</th>\n",
       "      <td>4.218447</td>\n",
       "      <td>206</td>\n",
       "    </tr>\n",
       "    <tr>\n",
       "      <th>B003ES5ZUU</th>\n",
       "      <td>4.864130</td>\n",
       "      <td>184</td>\n",
       "    </tr>\n",
       "    <tr>\n",
       "      <th>B000N99BBC</th>\n",
       "      <td>4.772455</td>\n",
       "      <td>167</td>\n",
       "    </tr>\n",
       "    <tr>\n",
       "      <th>B007WTAJTO</th>\n",
       "      <td>4.701220</td>\n",
       "      <td>164</td>\n",
       "    </tr>\n",
       "    <tr>\n",
       "      <th>B00829TIEK</th>\n",
       "      <td>4.436242</td>\n",
       "      <td>149</td>\n",
       "    </tr>\n",
       "  </tbody>\n",
       "</table>\n",
       "</div>"
      ],
      "text/plain": [
       "              rating  prod_rating_count\n",
       "productId                              \n",
       "B0088CJT4U  4.218447                206\n",
       "B003ES5ZUU  4.864130                184\n",
       "B000N99BBC  4.772455                167\n",
       "B007WTAJTO  4.701220                164\n",
       "B00829TIEK  4.436242                149"
      ]
     },
     "execution_count": 27,
     "metadata": {},
     "output_type": "execute_result"
    }
   ],
   "source": [
    "basic_popularity_model = prod_rating_count.sort_values(by =['prod_rating_count'],ascending = False)\n",
    "basic_popularity_model.head()"
   ]
  },
  {
   "cell_type": "markdown",
   "metadata": {},
   "source": [
    "Above is the list of top 5 popular products for the recommendation."
   ]
  },
  {
   "cell_type": "markdown",
   "metadata": {},
   "source": [
    "# Ranking - Based Algorithms"
   ]
  },
  {
   "cell_type": "code",
   "execution_count": 28,
   "metadata": {},
   "outputs": [
    {
     "data": {
      "text/html": [
       "<div>\n",
       "<style scoped>\n",
       "    .dataframe tbody tr th:only-of-type {\n",
       "        vertical-align: middle;\n",
       "    }\n",
       "\n",
       "    .dataframe tbody tr th {\n",
       "        vertical-align: top;\n",
       "    }\n",
       "\n",
       "    .dataframe thead th {\n",
       "        text-align: right;\n",
       "    }\n",
       "</style>\n",
       "<table border=\"1\" class=\"dataframe\">\n",
       "  <thead>\n",
       "    <tr style=\"text-align: right;\">\n",
       "      <th></th>\n",
       "      <th>productId</th>\n",
       "      <th>score</th>\n",
       "    </tr>\n",
       "  </thead>\n",
       "  <tbody>\n",
       "    <tr>\n",
       "      <th>0</th>\n",
       "      <td>B00001P4XA</td>\n",
       "      <td>12</td>\n",
       "    </tr>\n",
       "    <tr>\n",
       "      <th>1</th>\n",
       "      <td>B00001P4ZH</td>\n",
       "      <td>17</td>\n",
       "    </tr>\n",
       "    <tr>\n",
       "      <th>2</th>\n",
       "      <td>B00001WRSJ</td>\n",
       "      <td>16</td>\n",
       "    </tr>\n",
       "    <tr>\n",
       "      <th>3</th>\n",
       "      <td>B00001ZWXA</td>\n",
       "      <td>10</td>\n",
       "    </tr>\n",
       "    <tr>\n",
       "      <th>4</th>\n",
       "      <td>B00004SABB</td>\n",
       "      <td>13</td>\n",
       "    </tr>\n",
       "  </tbody>\n",
       "</table>\n",
       "</div>"
      ],
      "text/plain": [
       "    productId  score\n",
       "0  B00001P4XA     12\n",
       "1  B00001P4ZH     17\n",
       "2  B00001WRSJ     16\n",
       "3  B00001ZWXA     10\n",
       "4  B00004SABB     13"
      ]
     },
     "execution_count": 28,
     "metadata": {},
     "output_type": "execute_result"
    }
   ],
   "source": [
    "panda_data_grouped = panda_data.groupby('productId').agg({'userId': 'count'}).reset_index()\n",
    "panda_data_grouped.rename(columns = {'userId': 'score'},inplace =True)\n",
    "panda_data_grouped.head()"
   ]
  },
  {
   "cell_type": "code",
   "execution_count": 29,
   "metadata": {},
   "outputs": [
    {
     "data": {
      "text/html": [
       "<div>\n",
       "<style scoped>\n",
       "    .dataframe tbody tr th:only-of-type {\n",
       "        vertical-align: middle;\n",
       "    }\n",
       "\n",
       "    .dataframe tbody tr th {\n",
       "        vertical-align: top;\n",
       "    }\n",
       "\n",
       "    .dataframe thead th {\n",
       "        text-align: right;\n",
       "    }\n",
       "</style>\n",
       "<table border=\"1\" class=\"dataframe\">\n",
       "  <thead>\n",
       "    <tr style=\"text-align: right;\">\n",
       "      <th></th>\n",
       "      <th>productId</th>\n",
       "      <th>score</th>\n",
       "      <th>Rank</th>\n",
       "    </tr>\n",
       "  </thead>\n",
       "  <tbody>\n",
       "    <tr>\n",
       "      <th>1592</th>\n",
       "      <td>B0088CJT4U</td>\n",
       "      <td>206</td>\n",
       "      <td>1.0</td>\n",
       "    </tr>\n",
       "    <tr>\n",
       "      <th>839</th>\n",
       "      <td>B003ES5ZUU</td>\n",
       "      <td>184</td>\n",
       "      <td>2.0</td>\n",
       "    </tr>\n",
       "    <tr>\n",
       "      <th>226</th>\n",
       "      <td>B000N99BBC</td>\n",
       "      <td>167</td>\n",
       "      <td>3.0</td>\n",
       "    </tr>\n",
       "    <tr>\n",
       "      <th>1552</th>\n",
       "      <td>B007WTAJTO</td>\n",
       "      <td>164</td>\n",
       "      <td>4.0</td>\n",
       "    </tr>\n",
       "    <tr>\n",
       "      <th>1577</th>\n",
       "      <td>B00829TIEK</td>\n",
       "      <td>149</td>\n",
       "      <td>5.0</td>\n",
       "    </tr>\n",
       "  </tbody>\n",
       "</table>\n",
       "</div>"
      ],
      "text/plain": [
       "       productId  score  Rank\n",
       "1592  B0088CJT4U    206   1.0\n",
       "839   B003ES5ZUU    184   2.0\n",
       "226   B000N99BBC    167   3.0\n",
       "1552  B007WTAJTO    164   4.0\n",
       "1577  B00829TIEK    149   5.0"
      ]
     },
     "execution_count": 29,
     "metadata": {},
     "output_type": "execute_result"
    }
   ],
   "source": [
    "panda_data_sort = panda_data_grouped.sort_values(['score', 'productId'], ascending = [0,1])\n",
    "panda_data_sort['Rank'] = panda_data_sort['score'].rank(ascending =0, method ='first')\n",
    "\n",
    "# get the top 5 recommendations\n",
    "popularity_recommendations = panda_data_sort.head()\n",
    "popularity_recommendations"
   ]
  },
  {
   "cell_type": "code",
   "execution_count": 30,
   "metadata": {},
   "outputs": [],
   "source": [
    "# Using popularity based recommender model to make predictions\n",
    "import warnings\n",
    "warnings.filterwarnings('ignore')\n",
    "def recommend(userId):\n",
    "    user_recommendations = popularity_recommendations\n",
    "    user_recommendations['userID'] = userId\n",
    "    cols = user_recommendations.columns.tolist()\n",
    "    cols = cols[-1:]+cols[:-1]\n",
    "    user_recommendations = user_recommendations[cols]\n",
    "    \n",
    "    return user_recommendations"
   ]
  },
  {
   "cell_type": "code",
   "execution_count": 31,
   "metadata": {},
   "outputs": [
    {
     "name": "stdout",
     "output_type": "stream",
     "text": [
      "Here is the recommendation for the userId: 15/n\n",
      "      userID   productId  score  Rank\n",
      "1592      15  B0088CJT4U    206   1.0\n",
      "839       15  B003ES5ZUU    184   2.0\n",
      "226       15  B000N99BBC    167   3.0\n",
      "1552      15  B007WTAJTO    164   4.0\n",
      "1577      15  B00829TIEK    149   5.0\n",
      "/n\n",
      "Here is the recommendation for the userId: 122/n\n",
      "      userID   productId  score  Rank\n",
      "1592     122  B0088CJT4U    206   1.0\n",
      "839      122  B003ES5ZUU    184   2.0\n",
      "226      122  B000N99BBC    167   3.0\n",
      "1552     122  B007WTAJTO    164   4.0\n",
      "1577     122  B00829TIEK    149   5.0\n",
      "/n\n",
      "Here is the recommendation for the userId: 55/n\n",
      "      userID   productId  score  Rank\n",
      "1592      55  B0088CJT4U    206   1.0\n",
      "839       55  B003ES5ZUU    184   2.0\n",
      "226       55  B000N99BBC    167   3.0\n",
      "1552      55  B007WTAJTO    164   4.0\n",
      "1577      55  B00829TIEK    149   5.0\n",
      "/n\n",
      "Here is the recommendation for the userId: 240/n\n",
      "      userID   productId  score  Rank\n",
      "1592     240  B0088CJT4U    206   1.0\n",
      "839      240  B003ES5ZUU    184   2.0\n",
      "226      240  B000N99BBC    167   3.0\n",
      "1552     240  B007WTAJTO    164   4.0\n",
      "1577     240  B00829TIEK    149   5.0\n",
      "/n\n",
      "Here is the recommendation for the userId: 344/n\n",
      "      userID   productId  score  Rank\n",
      "1592     344  B0088CJT4U    206   1.0\n",
      "839      344  B003ES5ZUU    184   2.0\n",
      "226      344  B000N99BBC    167   3.0\n",
      "1552     344  B007WTAJTO    164   4.0\n",
      "1577     344  B00829TIEK    149   5.0\n",
      "/n\n"
     ]
    }
   ],
   "source": [
    "find_recom = [15, 122, 55, 240,344] # This list is user choice\n",
    "for i in find_recom:\n",
    "    print(\"Here is the recommendation for the userId: %d/n\" %(i))\n",
    "    print(recommend(i))\n",
    "    print(\"/n\")"
   ]
  },
  {
   "cell_type": "markdown",
   "metadata": {},
   "source": [
    "Top 5 popular products(B0088CJT4U,  B003ES5ZUU, B000N99BBC, B007WTAJTO, B00829TIEK).\n",
    "Since this is a popularity-based recommender model, recommendationsremain the same for all users.It is not personalized to \n",
    "paricular user."
   ]
  },
  {
   "cell_type": "markdown",
   "metadata": {},
   "source": [
    "# Building Collaborative Filtering model:"
   ]
  },
  {
   "cell_type": "markdown",
   "metadata": {},
   "source": [
    "For the collaborative filtering model I am going to use SVD, KNNWithMeans ."
   ]
  },
  {
   "cell_type": "code",
   "execution_count": 32,
   "metadata": {},
   "outputs": [
    {
     "data": {
      "text/plain": [
       "<surprise.prediction_algorithms.matrix_factorization.SVD at 0x1c400cf7848>"
      ]
     },
     "execution_count": 32,
     "metadata": {},
     "output_type": "execute_result"
    }
   ],
   "source": [
    "# Creating Model\n",
    "svd_model = SVD(n_factors = 10, biased = False)\n",
    "#Train the model on the trainset\n",
    "svd_model.fit(trainset)"
   ]
  },
  {
   "cell_type": "code",
   "execution_count": 33,
   "metadata": {},
   "outputs": [],
   "source": [
    "# predicting for test set\n",
    "predictions_svd = svd_model.test(testset)"
   ]
  },
  {
   "cell_type": "code",
   "execution_count": 34,
   "metadata": {},
   "outputs": [
    {
     "name": "stdout",
     "output_type": "stream",
     "text": [
      "RMSE: 1.1239\n"
     ]
    },
    {
     "data": {
      "text/plain": [
       "1.123881234805343"
      ]
     },
     "execution_count": 34,
     "metadata": {},
     "output_type": "execute_result"
    }
   ],
   "source": [
    "# compute RMSE\n",
    "accuracy.rmse(predictions_svd)\n"
   ]
  },
  {
   "cell_type": "code",
   "execution_count": 35,
   "metadata": {},
   "outputs": [
    {
     "name": "stdout",
     "output_type": "stream",
     "text": [
      "Evaluating RMSE, MAE of algorithm SVD on 5 split(s).\n",
      "\n",
      "                  Fold 1  Fold 2  Fold 3  Fold 4  Fold 5  Mean    Std     \n",
      "RMSE (testset)    1.0217  1.0681  1.0109  1.0286  1.0431  1.0345  0.0198  \n",
      "MAE (testset)     0.7782  0.8109  0.7660  0.7838  0.7922  0.7862  0.0150  \n",
      "Fit time          1.48    1.43    1.38    1.41    1.40    1.42    0.03    \n",
      "Test time         0.11    0.18    0.11    0.11    0.12    0.13    0.03    \n"
     ]
    }
   ],
   "source": [
    "svd_cv = cross_validate(svd_model,surprise_data, measures =['RMSE', 'MAE'], cv = 5, verbose = True)"
   ]
  },
  {
   "cell_type": "code",
   "execution_count": 36,
   "metadata": {},
   "outputs": [
    {
     "data": {
      "text/html": [
       "<div>\n",
       "<style scoped>\n",
       "    .dataframe tbody tr th:only-of-type {\n",
       "        vertical-align: middle;\n",
       "    }\n",
       "\n",
       "    .dataframe tbody tr th {\n",
       "        vertical-align: top;\n",
       "    }\n",
       "\n",
       "    .dataframe thead th {\n",
       "        text-align: right;\n",
       "    }\n",
       "</style>\n",
       "<table border=\"1\" class=\"dataframe\">\n",
       "  <thead>\n",
       "    <tr style=\"text-align: right;\">\n",
       "      <th></th>\n",
       "      <th>Model</th>\n",
       "      <th>RMSE</th>\n",
       "      <th>MAE</th>\n",
       "      <th>Fit Time</th>\n",
       "      <th>Test Time</th>\n",
       "    </tr>\n",
       "  </thead>\n",
       "  <tbody>\n",
       "    <tr>\n",
       "      <th>0</th>\n",
       "      <td>SVD</td>\n",
       "      <td>1.034502</td>\n",
       "      <td>0.786213</td>\n",
       "      <td>1.419</td>\n",
       "      <td>0.127464</td>\n",
       "    </tr>\n",
       "  </tbody>\n",
       "</table>\n",
       "</div>"
      ],
      "text/plain": [
       "  Model      RMSE       MAE  Fit Time  Test Time\n",
       "0   SVD  1.034502  0.786213     1.419   0.127464"
      ]
     },
     "execution_count": 36,
     "metadata": {},
     "output_type": "execute_result"
    }
   ],
   "source": [
    "# storing crossvalidation results in dataframe\n",
    "svd_df = pd.DataFrame.from_dict(svd_cv)\n",
    "svd_described = svd_df.describe()\n",
    "cv_results = pd.DataFrame([['SVD', svd_described['test_rmse']['mean'], svd_described['test_mae']['mean'] ,\n",
    "                            svd_described['fit_time']['mean'],svd_described['test_time']['mean']]],\n",
    "                         columns = ['Model', 'RMSE', 'MAE' ,'Fit Time', 'Test Time'])\n",
    "cv_results"
   ]
  },
  {
   "cell_type": "markdown",
   "metadata": {},
   "source": [
    "# KNNWithMeans User-user"
   ]
  },
  {
   "cell_type": "code",
   "execution_count": 37,
   "metadata": {},
   "outputs": [],
   "source": [
    "# Create model \n",
    "knnMeansUU_model = KNNWithMeans(k = 60, sim_options ={'user_based': True})"
   ]
  },
  {
   "cell_type": "code",
   "execution_count": 38,
   "metadata": {},
   "outputs": [
    {
     "name": "stdout",
     "output_type": "stream",
     "text": [
      "Computing the msd similarity matrix...\n",
      "Done computing similarity matrix.\n",
      "Computing the msd similarity matrix...\n",
      "Done computing similarity matrix.\n",
      "Computing the msd similarity matrix...\n",
      "Done computing similarity matrix.\n",
      "Computing the msd similarity matrix...\n",
      "Done computing similarity matrix.\n",
      "Computing the msd similarity matrix...\n",
      "Done computing similarity matrix.\n",
      "Computing the msd similarity matrix...\n",
      "Done computing similarity matrix.\n",
      "Evaluating RMSE, MAE of algorithm KNNWithMeans on 5 split(s).\n",
      "\n",
      "                  Fold 1  Fold 2  Fold 3  Fold 4  Fold 5  Mean    Std     \n",
      "RMSE (testset)    0.9303  0.9277  0.9201  0.9250  0.9198  0.9246  0.0042  \n",
      "MAE (testset)     0.6552  0.6546  0.6490  0.6454  0.6497  0.6508  0.0037  \n",
      "Fit time          0.25    0.25    0.36    0.26    0.26    0.28    0.04    \n",
      "Test time         0.81    0.87    1.08    0.82    0.86    0.89    0.10    \n"
     ]
    },
    {
     "data": {
      "text/html": [
       "<div>\n",
       "<style scoped>\n",
       "    .dataframe tbody tr th:only-of-type {\n",
       "        vertical-align: middle;\n",
       "    }\n",
       "\n",
       "    .dataframe tbody tr th {\n",
       "        vertical-align: top;\n",
       "    }\n",
       "\n",
       "    .dataframe thead th {\n",
       "        text-align: right;\n",
       "    }\n",
       "</style>\n",
       "<table border=\"1\" class=\"dataframe\">\n",
       "  <thead>\n",
       "    <tr style=\"text-align: right;\">\n",
       "      <th></th>\n",
       "      <th>Model</th>\n",
       "      <th>RMSE</th>\n",
       "      <th>MAE</th>\n",
       "      <th>Fit Time</th>\n",
       "      <th>Test Time</th>\n",
       "    </tr>\n",
       "  </thead>\n",
       "  <tbody>\n",
       "    <tr>\n",
       "      <th>0</th>\n",
       "      <td>SVD</td>\n",
       "      <td>1.034502</td>\n",
       "      <td>0.786213</td>\n",
       "      <td>1.41900</td>\n",
       "      <td>0.127464</td>\n",
       "    </tr>\n",
       "    <tr>\n",
       "      <th>1</th>\n",
       "      <td>KNNWithMeans User-User</td>\n",
       "      <td>0.924589</td>\n",
       "      <td>0.650763</td>\n",
       "      <td>0.27629</td>\n",
       "      <td>0.889487</td>\n",
       "    </tr>\n",
       "  </tbody>\n",
       "</table>\n",
       "</div>"
      ],
      "text/plain": [
       "                    Model      RMSE       MAE  Fit Time  Test Time\n",
       "0                     SVD  1.034502  0.786213   1.41900   0.127464\n",
       "1  KNNWithMeans User-User  0.924589  0.650763   0.27629   0.889487"
      ]
     },
     "execution_count": 38,
     "metadata": {},
     "output_type": "execute_result"
    }
   ],
   "source": [
    "# Train the model on trainset\n",
    "knnMeansUU_model.fit(trainset)\n",
    "# predict on testset\n",
    "prediction_knnMeansUU = knnMeansUU_model.test(testset)\n",
    "\n",
    "knnMeansUU_cv = cross_validate(knnMeansUU_model, surprise_data, measures = ['RMSE','MAE'], cv = 5, verbose = True)\n",
    "\n",
    "# storing crossvalidation results in dataframe\n",
    "knnMeansUU_df = pd.DataFrame.from_dict(knnMeansUU_cv)\n",
    "knnMeansUU_described = knnMeansUU_df.describe()\n",
    "knnMeansUU_cv_results = pd.DataFrame([['KNNWithMeans User-User', knnMeansUU_described['test_rmse']['mean'],knnMeansUU_described\n",
    "                                       ['test_mae']['mean'],\n",
    "                                      knnMeansUU_described['fit_time']['mean'], knnMeansUU_described['test_time']['mean']]],\n",
    "                                    columns = ['Model', 'RMSE','MAE', 'Fit Time', 'Test Time'])\n",
    "\n",
    "cv_results = cv_results.append(knnMeansUU_cv_results, ignore_index = True)\n",
    "cv_results\n"
   ]
  },
  {
   "cell_type": "markdown",
   "metadata": {},
   "source": [
    "# KNNWithMeans Item-item"
   ]
  },
  {
   "cell_type": "code",
   "execution_count": 39,
   "metadata": {},
   "outputs": [
    {
     "name": "stdout",
     "output_type": "stream",
     "text": [
      "Computing the msd similarity matrix...\n",
      "Done computing similarity matrix.\n",
      "Computing the msd similarity matrix...\n",
      "Done computing similarity matrix.\n",
      "Computing the msd similarity matrix...\n",
      "Done computing similarity matrix.\n",
      "Computing the msd similarity matrix...\n",
      "Done computing similarity matrix.\n",
      "Computing the msd similarity matrix...\n",
      "Done computing similarity matrix.\n",
      "Computing the msd similarity matrix...\n",
      "Done computing similarity matrix.\n",
      "Evaluating RMSE, MAE of algorithm KNNWithMeans on 5 split(s).\n",
      "\n",
      "                  Fold 1  Fold 2  Fold 3  Fold 4  Fold 5  Mean    Std     \n",
      "RMSE (testset)    0.9296  0.9194  0.9146  0.9310  0.9402  0.9270  0.0090  \n",
      "MAE (testset)     0.6568  0.6455  0.6386  0.6552  0.6629  0.6518  0.0087  \n",
      "Fit time          0.43    0.44    0.45    0.44    0.44    0.44    0.01    \n",
      "Test time         1.02    1.05    1.08    0.98    1.01    1.03    0.04    \n",
      "RMSE: 0.9367\n"
     ]
    },
    {
     "data": {
      "text/html": [
       "<div>\n",
       "<style scoped>\n",
       "    .dataframe tbody tr th:only-of-type {\n",
       "        vertical-align: middle;\n",
       "    }\n",
       "\n",
       "    .dataframe tbody tr th {\n",
       "        vertical-align: top;\n",
       "    }\n",
       "\n",
       "    .dataframe thead th {\n",
       "        text-align: right;\n",
       "    }\n",
       "</style>\n",
       "<table border=\"1\" class=\"dataframe\">\n",
       "  <thead>\n",
       "    <tr style=\"text-align: right;\">\n",
       "      <th></th>\n",
       "      <th>Model</th>\n",
       "      <th>RMSE</th>\n",
       "      <th>MAE</th>\n",
       "      <th>Fit Time</th>\n",
       "      <th>Test Time</th>\n",
       "    </tr>\n",
       "  </thead>\n",
       "  <tbody>\n",
       "    <tr>\n",
       "      <th>0</th>\n",
       "      <td>SVD</td>\n",
       "      <td>1.034502</td>\n",
       "      <td>0.786213</td>\n",
       "      <td>1.419000</td>\n",
       "      <td>0.127464</td>\n",
       "    </tr>\n",
       "    <tr>\n",
       "      <th>1</th>\n",
       "      <td>KNNWithMeans User-User</td>\n",
       "      <td>0.924589</td>\n",
       "      <td>0.650763</td>\n",
       "      <td>0.276290</td>\n",
       "      <td>0.889487</td>\n",
       "    </tr>\n",
       "    <tr>\n",
       "      <th>2</th>\n",
       "      <td>KNNWithMeans Item-Item</td>\n",
       "      <td>0.926976</td>\n",
       "      <td>0.651822</td>\n",
       "      <td>0.441519</td>\n",
       "      <td>1.027465</td>\n",
       "    </tr>\n",
       "  </tbody>\n",
       "</table>\n",
       "</div>"
      ],
      "text/plain": [
       "                    Model      RMSE       MAE  Fit Time  Test Time\n",
       "0                     SVD  1.034502  0.786213  1.419000   0.127464\n",
       "1  KNNWithMeans User-User  0.924589  0.650763  0.276290   0.889487\n",
       "2  KNNWithMeans Item-Item  0.926976  0.651822  0.441519   1.027465"
      ]
     },
     "execution_count": 39,
     "metadata": {},
     "output_type": "execute_result"
    }
   ],
   "source": [
    "# Create model\n",
    "knnMeansII_model = KNNWithMeans(k = 60, sim_options= {'user_based': False})\n",
    "\n",
    "# Train the model on trainset\n",
    "knnMeansII_model.fit(trainset)\n",
    "\n",
    "# predict on test set\n",
    "prediction_knnMeansII = knnMeansII_model.test(testset)\n",
    "\n",
    "# Evaluating RMSE of algorithm KNNwithmeans item item on 5 split\n",
    "\n",
    "knnMeansII_cv = cross_validate(knnMeansII_model, surprise_data, measures = ['RMSE','MAE'], cv = 5, verbose = True)\n",
    "\n",
    "#Storing crossvalidation results in dataframe\n",
    "knnMeansII_df = pd.DataFrame.from_dict(knnMeansII_cv)\n",
    "knnMeansII_described = knnMeansII_df.describe()\n",
    "\n",
    "knnMeansII_cv_results = pd.DataFrame([['KNNWithMeans Item-Item', knnMeansII_described['test_rmse']['mean'],knnMeansII_described\n",
    "                                       ['test_mae']['mean'],\n",
    "                                      knnMeansII_described['fit_time']['mean'], knnMeansII_described['test_time']['mean']]],\n",
    "                                    columns = ['Model', 'RMSE', 'MAE', 'Fit Time', 'Test Time'])\n",
    "\n",
    "cv_results = cv_results.append(knnMeansII_cv_results, ignore_index = True)\n",
    "\n",
    "accuracy.rmse(prediction_knnMeansII, verbose = True)\n",
    "\n",
    "cv_results"
   ]
  },
  {
   "cell_type": "markdown",
   "metadata": {},
   "source": [
    "# KNNBasic"
   ]
  },
  {
   "cell_type": "code",
   "execution_count": 40,
   "metadata": {},
   "outputs": [
    {
     "name": "stdout",
     "output_type": "stream",
     "text": [
      "Computing the msd similarity matrix...\n",
      "Done computing similarity matrix.\n",
      "Computing the msd similarity matrix...\n",
      "Done computing similarity matrix.\n",
      "Computing the msd similarity matrix...\n",
      "Done computing similarity matrix.\n",
      "Computing the msd similarity matrix...\n",
      "Done computing similarity matrix.\n",
      "Computing the msd similarity matrix...\n",
      "Done computing similarity matrix.\n",
      "Computing the msd similarity matrix...\n",
      "Done computing similarity matrix.\n",
      "Evaluating RMSE, MAE of algorithm KNNBasic on 5 split(s).\n",
      "\n",
      "                  Fold 1  Fold 2  Fold 3  Fold 4  Fold 5  Mean    Std     \n",
      "RMSE (testset)    0.9931  0.9846  0.9649  0.9889  0.9807  0.9824  0.0097  \n",
      "MAE (testset)     0.6972  0.6878  0.6785  0.6963  0.6863  0.6892  0.0069  \n",
      "Fit time          0.46    0.39    0.38    0.39    0.38    0.40    0.03    \n",
      "Test time         1.35    0.93    0.94    0.97    0.96    1.03    0.16    \n",
      "RMSE: 0.9929\n"
     ]
    },
    {
     "data": {
      "text/html": [
       "<div>\n",
       "<style scoped>\n",
       "    .dataframe tbody tr th:only-of-type {\n",
       "        vertical-align: middle;\n",
       "    }\n",
       "\n",
       "    .dataframe tbody tr th {\n",
       "        vertical-align: top;\n",
       "    }\n",
       "\n",
       "    .dataframe thead th {\n",
       "        text-align: right;\n",
       "    }\n",
       "</style>\n",
       "<table border=\"1\" class=\"dataframe\">\n",
       "  <thead>\n",
       "    <tr style=\"text-align: right;\">\n",
       "      <th></th>\n",
       "      <th>Model</th>\n",
       "      <th>RMSE</th>\n",
       "      <th>MAE</th>\n",
       "      <th>Fit Time</th>\n",
       "      <th>Test Time</th>\n",
       "    </tr>\n",
       "  </thead>\n",
       "  <tbody>\n",
       "    <tr>\n",
       "      <th>0</th>\n",
       "      <td>SVD</td>\n",
       "      <td>1.034502</td>\n",
       "      <td>0.786213</td>\n",
       "      <td>1.419000</td>\n",
       "      <td>0.127464</td>\n",
       "    </tr>\n",
       "    <tr>\n",
       "      <th>1</th>\n",
       "      <td>KNNWithMeans User-User</td>\n",
       "      <td>0.924589</td>\n",
       "      <td>0.650763</td>\n",
       "      <td>0.276290</td>\n",
       "      <td>0.889487</td>\n",
       "    </tr>\n",
       "    <tr>\n",
       "      <th>2</th>\n",
       "      <td>KNNWithMeans Item-Item</td>\n",
       "      <td>0.926976</td>\n",
       "      <td>0.651822</td>\n",
       "      <td>0.441519</td>\n",
       "      <td>1.027465</td>\n",
       "    </tr>\n",
       "    <tr>\n",
       "      <th>3</th>\n",
       "      <td>KNNBasic</td>\n",
       "      <td>0.982424</td>\n",
       "      <td>0.689224</td>\n",
       "      <td>0.400127</td>\n",
       "      <td>1.029446</td>\n",
       "    </tr>\n",
       "  </tbody>\n",
       "</table>\n",
       "</div>"
      ],
      "text/plain": [
       "                    Model      RMSE       MAE  Fit Time  Test Time\n",
       "0                     SVD  1.034502  0.786213  1.419000   0.127464\n",
       "1  KNNWithMeans User-User  0.924589  0.650763  0.276290   0.889487\n",
       "2  KNNWithMeans Item-Item  0.926976  0.651822  0.441519   1.027465\n",
       "3                KNNBasic  0.982424  0.689224  0.400127   1.029446"
      ]
     },
     "execution_count": 40,
     "metadata": {},
     "output_type": "execute_result"
    }
   ],
   "source": [
    "# Creating Model\n",
    "knnBasic_model = KNNBasic(k = 50, sim_options = {'user_based': False})\n",
    "\n",
    "# Train the model on trainset\n",
    "knnBasic_model.fit(trainset)\n",
    "\n",
    "# predict on test set\n",
    "prediction_knnBasic = knnBasic_model.test(testset)\n",
    "\n",
    "# Evaluating RMSE, MAE of algorithm knnBasic on 5 splits\n",
    "\n",
    "knnBasic_cv = cross_validate(knnBasic_model, surprise_data,  measures = ['RMSE','MAE'], cv = 5, verbose = True)\n",
    "\n",
    "\n",
    "# storing cossvalidation results in dataframe\n",
    "\n",
    "knnBasic_df = pd.DataFrame.from_dict(knnBasic_cv)\n",
    "knnBasic_described = knnBasic_df.describe()\n",
    "\n",
    "knnBasic_cv_results = pd.DataFrame([['KNNBasic', knnBasic_described['test_rmse']['mean'], knnBasic_described['test_mae']['mean'],\n",
    "                                     knnBasic_described['fit_time']['mean'],\n",
    "                                     knnBasic_described['test_time']['mean']]],\n",
    "                                     columns = ['Model', 'RMSE', 'MAE','Fit Time', 'Test Time'])\n",
    "                                \n",
    "                                    \n",
    "cv_results = cv_results.append(knnBasic_cv_results, ignore_index = True)\n",
    "                                \n",
    "accuracy.rmse(prediction_knnBasic, verbose = True)\n",
    "cv_results                                    \n",
    "                                                                                                                         "
   ]
  },
  {
   "cell_type": "markdown",
   "metadata": {},
   "source": [
    "# KNNWithZScore"
   ]
  },
  {
   "cell_type": "code",
   "execution_count": 41,
   "metadata": {},
   "outputs": [
    {
     "name": "stdout",
     "output_type": "stream",
     "text": [
      "Computing the msd similarity matrix...\n",
      "Done computing similarity matrix.\n",
      "Computing the msd similarity matrix...\n",
      "Done computing similarity matrix.\n",
      "Computing the msd similarity matrix...\n",
      "Done computing similarity matrix.\n",
      "Computing the msd similarity matrix...\n",
      "Done computing similarity matrix.\n",
      "Computing the msd similarity matrix...\n",
      "Done computing similarity matrix.\n",
      "Computing the msd similarity matrix...\n",
      "Done computing similarity matrix.\n",
      "Evaluating RMSE, MAE of algorithm KNNWithZScore on 5 split(s).\n",
      "\n",
      "                  Fold 1  Fold 2  Fold 3  Fold 4  Fold 5  Mean    Std     \n",
      "RMSE (testset)    0.9431  0.9327  0.9519  0.9338  0.9472  0.9417  0.0075  \n",
      "MAE (testset)     0.6568  0.6474  0.6601  0.6468  0.6565  0.6535  0.0054  \n",
      "Fit time          0.61    0.61    0.61    0.62    0.76    0.64    0.06    \n",
      "Test time         1.15    1.09    1.12    1.52    1.13    1.20    0.16    \n",
      "RMSE: 0.9498\n"
     ]
    },
    {
     "data": {
      "text/html": [
       "<div>\n",
       "<style scoped>\n",
       "    .dataframe tbody tr th:only-of-type {\n",
       "        vertical-align: middle;\n",
       "    }\n",
       "\n",
       "    .dataframe tbody tr th {\n",
       "        vertical-align: top;\n",
       "    }\n",
       "\n",
       "    .dataframe thead th {\n",
       "        text-align: right;\n",
       "    }\n",
       "</style>\n",
       "<table border=\"1\" class=\"dataframe\">\n",
       "  <thead>\n",
       "    <tr style=\"text-align: right;\">\n",
       "      <th></th>\n",
       "      <th>Model</th>\n",
       "      <th>RMSE</th>\n",
       "      <th>MAE</th>\n",
       "      <th>Fit Time</th>\n",
       "      <th>Test Time</th>\n",
       "    </tr>\n",
       "  </thead>\n",
       "  <tbody>\n",
       "    <tr>\n",
       "      <th>0</th>\n",
       "      <td>SVD</td>\n",
       "      <td>1.034502</td>\n",
       "      <td>0.786213</td>\n",
       "      <td>1.419000</td>\n",
       "      <td>0.127464</td>\n",
       "    </tr>\n",
       "    <tr>\n",
       "      <th>1</th>\n",
       "      <td>KNNWithMeans User-User</td>\n",
       "      <td>0.924589</td>\n",
       "      <td>0.650763</td>\n",
       "      <td>0.276290</td>\n",
       "      <td>0.889487</td>\n",
       "    </tr>\n",
       "    <tr>\n",
       "      <th>2</th>\n",
       "      <td>KNNWithMeans Item-Item</td>\n",
       "      <td>0.926976</td>\n",
       "      <td>0.651822</td>\n",
       "      <td>0.441519</td>\n",
       "      <td>1.027465</td>\n",
       "    </tr>\n",
       "    <tr>\n",
       "      <th>3</th>\n",
       "      <td>KNNBasic</td>\n",
       "      <td>0.982424</td>\n",
       "      <td>0.689224</td>\n",
       "      <td>0.400127</td>\n",
       "      <td>1.029446</td>\n",
       "    </tr>\n",
       "    <tr>\n",
       "      <th>4</th>\n",
       "      <td>KNNWithZscore</td>\n",
       "      <td>0.941727</td>\n",
       "      <td>0.653533</td>\n",
       "      <td>0.641136</td>\n",
       "      <td>1.202680</td>\n",
       "    </tr>\n",
       "  </tbody>\n",
       "</table>\n",
       "</div>"
      ],
      "text/plain": [
       "                    Model      RMSE       MAE  Fit Time  Test Time\n",
       "0                     SVD  1.034502  0.786213  1.419000   0.127464\n",
       "1  KNNWithMeans User-User  0.924589  0.650763  0.276290   0.889487\n",
       "2  KNNWithMeans Item-Item  0.926976  0.651822  0.441519   1.027465\n",
       "3                KNNBasic  0.982424  0.689224  0.400127   1.029446\n",
       "4           KNNWithZscore  0.941727  0.653533  0.641136   1.202680"
      ]
     },
     "execution_count": 41,
     "metadata": {},
     "output_type": "execute_result"
    }
   ],
   "source": [
    "# Create the model\n",
    "knnZscore_model = KNNWithZScore(k = 60, sim_options = {'user_based': False})\n",
    "\n",
    "# Train on the training set\n",
    "knnZscore_model.fit(trainset)\n",
    "\n",
    "# predict on test set\n",
    "prediction_knnZscore = knnZscore_model.test(testset)\n",
    " \n",
    "# Evaluating RMSE of algorithms KNNWithZscore\n",
    "knnZscore_cv = cross_validate(knnZscore_model, surprise_data, measures =['RMSE','MAE'], cv = 5, verbose = True)\n",
    "\n",
    "# Storing Crossvalidation results in dataframe\n",
    "\n",
    "knnZscore_df = pd.DataFrame.from_dict(knnZscore_cv)\n",
    "knnZscore_described = knnZscore_df.describe()\n",
    "knnZscore_cv_results = pd.DataFrame([['KNNWithZscore', knnZscore_described['test_rmse']['mean'], knnZscore_described['test_mae']\n",
    "                                      ['mean'],\n",
    "                                     knnZscore_described['fit_time']['mean'],knnZscore_described['test_time']['mean']]],\n",
    "                                   columns = ['Model', 'RMSE','MAE', 'Fit Time', 'Test Time'])\n",
    "\n",
    "cv_results = cv_results.append(knnZscore_cv_results, ignore_index = True)\n",
    "\n",
    "accuracy.rmse(prediction_knnZscore, verbose = True)\n",
    "\n",
    "cv_results"
   ]
  },
  {
   "cell_type": "markdown",
   "metadata": {},
   "source": [
    "# Evaluation Results:"
   ]
  },
  {
   "cell_type": "markdown",
   "metadata": {},
   "source": [
    "# Comparison of all algorithms on RMSE"
   ]
  },
  {
   "cell_type": "markdown",
   "metadata": {},
   "source": [
    "From above algorithm comparisons we analyse that\n",
    "KNNWithMeans user- user gives the best RMSE value.\n",
    "KNNWithMeans user-user and item-item both gives the best MAE value.\n",
    "KNNWithMeans is giving the best RMSE in collaborative Filtering Algorithms.\n",
    "we also observe that the fit time and test time taken by knnwithmeans is less than other algorithms."
   ]
  },
  {
   "cell_type": "markdown",
   "metadata": {},
   "source": [
    "# Top - K(K =5) recommendations "
   ]
  },
  {
   "cell_type": "code",
   "execution_count": 42,
   "metadata": {},
   "outputs": [],
   "source": [
    "k = 5"
   ]
  },
  {
   "cell_type": "markdown",
   "metadata": {},
   "source": [
    "Here I am using SVD algorithm to get the top 5 recommendations of new products for each user."
   ]
  },
  {
   "cell_type": "code",
   "execution_count": 43,
   "metadata": {},
   "outputs": [
    {
     "data": {
      "text/plain": [
       "defaultdict(list, {'A28N2AWOVO2PB': [('B004CLYEFK', 5)]})"
      ]
     },
     "execution_count": 43,
     "metadata": {},
     "output_type": "execute_result"
    }
   ],
   "source": [
    "top_n = defaultdict(list)\n",
    "def get_top_n(predictions, n =k):\n",
    "    top_n = defaultdict(list)\n",
    "    for uid, iid, true_r, est, _ in predictions:\n",
    "        top_n[uid].append((iid, est))\n",
    "        for uid, user_ratings in top_n.items():\n",
    "            user_ratings.sort(key = lambda x:x[1], reverse = True)\n",
    "            top_n[uid] = user_ratings[:n]\n",
    "            \n",
    "            return top_n\n",
    "        \n",
    "top_n = get_top_n(predictions_svd, n=k)\n",
    "top_n"
   ]
  },
  {
   "cell_type": "markdown",
   "metadata": {},
   "source": [
    "# Precision and recall at k = 5"
   ]
  },
  {
   "cell_type": "code",
   "execution_count": 44,
   "metadata": {},
   "outputs": [
    {
     "name": "stdout",
     "output_type": "stream",
     "text": [
      "Precision : 1.0\n",
      "recalls: 1.0\n",
      "Precision : 1.0\n",
      "recalls: 1.0\n",
      "Precision : 1.0\n",
      "recalls: 1.0\n",
      "Precision : 1.0\n",
      "recalls: 1.0\n",
      "Precision : 1.0\n",
      "recalls: 1.0\n"
     ]
    }
   ],
   "source": [
    "def precision_recall_at_k(predictions, k=5, threshold = 3.5):\n",
    "    user_est_true = defaultdict(list)\n",
    "    for uid, _, true_r, est, _ in predictions:\n",
    "        user_est_true[uid].append((est, true_r))\n",
    "        precisions = dict()\n",
    "        recalls = dict()\n",
    "        for uid, user_ratings in user_est_true.items():\n",
    "               user_ratings.sort(key = lambda x:x[0], reverse = True)\n",
    "            \n",
    "               n_rel = sum((true_r>= threshold) for (_, true_r) in user_ratings)\n",
    "            \n",
    "               n_rec_k = sum((est >= threshold) for (est, _) in user_ratings[:k] )\n",
    "            \n",
    "               n_rel_and_rec_k = sum(((true_r>= threshold) and (est>= threshold))\n",
    "                \n",
    "                                                for (est, true_r) in user_ratings[:k])\n",
    "                \n",
    "               precisions[uid] = n_rel_and_rec_k / n_rec_k if n_rec_k !=0 else 1\n",
    "            \n",
    "               recalls[uid] =  n_rel_and_rec_k / n_rel if n_rel != 0 else 1\n",
    "            \n",
    "               return precisions, recalls\n",
    "        \n",
    "kf = KFold(n_splits = 5)\n",
    "svd_model = SVD()\n",
    "precs = []\n",
    "recalls = []\n",
    "for trainset, testset in kf.split(surprise_data):\n",
    "    svd_model.fit(trainset)\n",
    "    predictions = svd_model.test(testset)\n",
    "    precisions, recalls = precision_recall_at_k(predictions, k=5, threshold=3.5)\n",
    "    \n",
    "    print('Precision :', sum(prec for prec in precisions.values())/ len(precisions))\n",
    "    print('recalls:', sum(rec for rec in recalls.values())/ len(recalls))"
   ]
  },
  {
   "cell_type": "markdown",
   "metadata": {},
   "source": [
    "I have calculated Precision and recall at k = 5. \n",
    "My precision at 5 in top -5 recommendation problem is 100%. This means  that 100% of the recommendation are relevent to the \n",
    "users.\n",
    "\n",
    "My recall at 5 in top -5 recommendation problem is 100% . This means that 100% of the recommendation are relevant to the \n",
    "products."
   ]
  },
  {
   "cell_type": "markdown",
   "metadata": {},
   "source": [
    "# Summarise your insights."
   ]
  },
  {
   "cell_type": "markdown",
   "metadata": {},
   "source": [
    "The above EDA was analysed to understand the data in precise way and found that most of the customers have given 5 rating\n",
    "The subset of data are selected based on users who have given 50 or more rating and the products which received 10 or more \n",
    "number of ratings .\n",
    "\n",
    "In Popularity based model top 5 recommended products are displayed with repect to users.\n",
    "This means same top 5 products will be recommended to each user.\n",
    "\n",
    "SVD and K-NN based algorithms are selected to build Collaborative Filtering Model.\n",
    "Obervation 1 :  KNNWithMeans is performing well .\n",
    "Observation 2  KNNWithMeans user-user has given lowest RMSE. \n",
    "\n",
    "Therefore, we analyse that KNNwithMeans user-user model will be used to get the recommended products."
   ]
  },
  {
   "cell_type": "code",
   "execution_count": null,
   "metadata": {},
   "outputs": [],
   "source": []
  }
 ],
 "metadata": {
  "kernelspec": {
   "display_name": "Python 3",
   "language": "python",
   "name": "python3"
  },
  "language_info": {
   "codemirror_mode": {
    "name": "ipython",
    "version": 3
   },
   "file_extension": ".py",
   "mimetype": "text/x-python",
   "name": "python",
   "nbconvert_exporter": "python",
   "pygments_lexer": "ipython3",
   "version": "3.7.6"
  }
 },
 "nbformat": 4,
 "nbformat_minor": 4
}
