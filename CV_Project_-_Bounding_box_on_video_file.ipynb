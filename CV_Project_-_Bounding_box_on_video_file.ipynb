{
 "cells": [
  {
   "cell_type": "markdown",
   "metadata": {},
   "source": [
    "## AIML Module Project - CV Project - Project \n",
    "\n",
    "- GL | Moderator Copy"
   ]
  },
  {
   "cell_type": "markdown",
   "metadata": {},
   "source": [
    "### --> Assessment [ Total Score: 5 points ]\n",
    "\n",
    "Please refer to the problem statement for questions and descriptions"
   ]
  },
  {
   "cell_type": "markdown",
   "metadata": {},
   "source": [
    "### --> Scoring mechanism [ moderators ] :\n",
    "\n",
    "    \" High quality and stritct assessment will enable our learners to achieve a score that they actually deserve and provide them a motivation to improvise for future. We are enabling the learners with high quality assessment and learnings. \"\n",
    "\n",
    "\n",
    "You will find the rubrics divided into 3 parts:\n",
    "    \n",
    "    -> Direct points [DP] : \n",
    "        1. These points tests the required bare minimum working knowledge on AIML for the learner. \n",
    "        2. The output obtained will be fixed and cannot vary much. \n",
    "        3. Please award points if the submission is perfectly/near to similar to the sample solution\n",
    "              \n",
    "    -> Generic points [GP] : \n",
    "        1. These points tests the analytical thinking capacity of the learner. \n",
    "        2. These points tests the efforts and time invested by the learner on the project.\n",
    "        3. The output obtained will vary. \n",
    "        4. Please award points only if the submissions are relevant, logical, analytical and innovative.\n",
    "        \n",
    "    -> Deduct X points from the total score if any two or more of the below pointers not followed:\n",
    "        1. ”.html” and \".ipynb\" files should be an exact match.\n",
    "        2. Pre-run codes with all outputs intact.\n",
    "        3. Error free & machine independent i.e. run on any machine without adding any extra code.\n",
    "        4. Well commented code for:\n",
    "            - clarity on code designed\n",
    "            - assumptions made\n",
    "            - approach taken\n",
    "            - insights found\n",
    "            - results obtained.\n",
    "        \n",
    "        - X = 5  --> if the total score of the assignment is 30\n",
    "        - X = 10 --> if the total score of the assignment is 60 "
   ]
  },
  {
   "cell_type": "code",
   "execution_count": null,
   "metadata": {},
   "outputs": [],
   "source": [
    "import time\n",
    "import numpy as np\n",
    "import cv2\n",
    "# Create our body classifier\n",
    "car_classifier = cv2.CascadeClassifier('haar-cascade-files-master/Car/cars.xml')\n",
    "# Initiate video capture for video file\n",
    "cap = cv2.VideoCapture('Video/video1.mp4')\n",
    "# Loop once video is successfully loaded\n",
    "while cap.isOpened():\n",
    "    \n",
    "    time.sleep(.05)\n",
    "    # Read first frame\n",
    "    ret, frame = cap.read()\n",
    "    gray = cv2.cvtColor(frame, cv2.COLOR_BGR2GRAY)\n",
    "   \n",
    "    # Pass frame to our car classifier\n",
    "    cars = car_classifier.detectMultiScale(gray, 1.1, 2)\n",
    "    \n",
    "    # Extract bounding boxes for any bodies identified\n",
    "    for (x,y,w,h) in cars:\n",
    "        cv2.rectangle(frame, (x, y), (x+w, y+h), (0, 255, 255), 2)\n",
    "        cv2.imshow('Cars', frame)\n",
    "    if cv2.waitKey(0)== 1:\n",
    "        break\n",
    "cap.release()\n",
    "cv2.destroyAllWindows()"
   ]
  },
  {
   "cell_type": "markdown",
   "metadata": {},
   "source": [
    "           END"
   ]
  }
 ],
 "metadata": {
  "kernelspec": {
   "display_name": "Python 3",
   "language": "python",
   "name": "python3"
  },
  "language_info": {
   "codemirror_mode": {
    "name": "ipython",
    "version": 3
   },
   "file_extension": ".py",
   "mimetype": "text/x-python",
   "name": "python",
   "nbconvert_exporter": "python",
   "pygments_lexer": "ipython3",
   "version": "3.7.7"
  }
 },
 "nbformat": 4,
 "nbformat_minor": 4
}
